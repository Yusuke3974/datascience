{
 "cells": [
  {
   "cell_type": "markdown",
   "id": "referenced-finder",
   "metadata": {},
   "source": [
    "## 日経平均株価をLSTM・GRUで予測"
   ]
  },
  {
   "cell_type": "markdown",
   "id": "optical-tolerance",
   "metadata": {},
   "source": [
    "下記のページから日経平均株価のCSVファイルをダウンロード。<br>\n",
    "そして、RNNのモデルであるLSTM、GRUで株価の予測モデルを作成していきます。<br>\n",
    "<br>\n",
    "元データ:https://www.macrotrends.net/2593/nikkei-225-index-historical-chart-data  "
   ]
  },
  {
   "cell_type": "code",
   "execution_count": 190,
   "id": "posted-spider",
   "metadata": {},
   "outputs": [],
   "source": [
    "import pandas as pd\n",
    "import numpy as np\n",
    "import matplotlib.pyplot as plt\n",
    "import seaborn as sns\n",
    "sns.set()\n",
    "\n",
    "from keras.models import Sequential\n",
    "from keras.layers.core import Dense, Activation\n",
    "from keras.layers.recurrent import LSTM, GRU\n",
    "from keras.layers import Dropout\n",
    "\n",
    "from keras.callbacks import EarlyStopping\n",
    "from sklearn.model_selection import train_test_split"
   ]
  },
  {
   "cell_type": "code",
   "execution_count": 191,
   "id": "drawn-collapse",
   "metadata": {},
   "outputs": [],
   "source": [
    "# データの読み込み\n",
    "data = pd.read_csv('nikkei-225-index-historical-chart-data.csv',header=15)"
   ]
  },
  {
   "cell_type": "code",
   "execution_count": 192,
   "id": "medium-sheffield",
   "metadata": {},
   "outputs": [
    {
     "data": {
      "text/html": [
       "<div>\n",
       "<style scoped>\n",
       "    .dataframe tbody tr th:only-of-type {\n",
       "        vertical-align: middle;\n",
       "    }\n",
       "\n",
       "    .dataframe tbody tr th {\n",
       "        vertical-align: top;\n",
       "    }\n",
       "\n",
       "    .dataframe thead th {\n",
       "        text-align: right;\n",
       "    }\n",
       "</style>\n",
       "<table border=\"1\" class=\"dataframe\">\n",
       "  <thead>\n",
       "    <tr style=\"text-align: right;\">\n",
       "      <th></th>\n",
       "      <th>date</th>\n",
       "      <th>value</th>\n",
       "    </tr>\n",
       "  </thead>\n",
       "  <tbody>\n",
       "    <tr>\n",
       "      <th>0</th>\n",
       "      <td>1949/5/16</td>\n",
       "      <td>176.21</td>\n",
       "    </tr>\n",
       "    <tr>\n",
       "      <th>1</th>\n",
       "      <td>1949/5/17</td>\n",
       "      <td>174.80</td>\n",
       "    </tr>\n",
       "    <tr>\n",
       "      <th>2</th>\n",
       "      <td>1949/5/18</td>\n",
       "      <td>172.53</td>\n",
       "    </tr>\n",
       "    <tr>\n",
       "      <th>3</th>\n",
       "      <td>1949/5/19</td>\n",
       "      <td>171.34</td>\n",
       "    </tr>\n",
       "    <tr>\n",
       "      <th>4</th>\n",
       "      <td>1949/5/20</td>\n",
       "      <td>169.20</td>\n",
       "    </tr>\n",
       "  </tbody>\n",
       "</table>\n",
       "</div>"
      ],
      "text/plain": [
       "        date   value\n",
       "0  1949/5/16  176.21\n",
       "1  1949/5/17  174.80\n",
       "2  1949/5/18  172.53\n",
       "3  1949/5/19  171.34\n",
       "4  1949/5/20  169.20"
      ]
     },
     "execution_count": 192,
     "metadata": {},
     "output_type": "execute_result"
    }
   ],
   "source": [
    "# 表示して確認\n",
    "data.head()"
   ]
  },
  {
   "cell_type": "markdown",
   "id": "elder-houston",
   "metadata": {},
   "source": [
    "## データの前処理"
   ]
  },
  {
   "cell_type": "code",
   "execution_count": 193,
   "id": "driving-damages",
   "metadata": {},
   "outputs": [],
   "source": [
    "# 2015年から2021年3月24日までのデータを使用\n",
    "data = data[16341:]"
   ]
  },
  {
   "cell_type": "code",
   "execution_count": 194,
   "id": "colonial-yorkshire",
   "metadata": {},
   "outputs": [
    {
     "data": {
      "text/html": [
       "<div>\n",
       "<style scoped>\n",
       "    .dataframe tbody tr th:only-of-type {\n",
       "        vertical-align: middle;\n",
       "    }\n",
       "\n",
       "    .dataframe tbody tr th {\n",
       "        vertical-align: top;\n",
       "    }\n",
       "\n",
       "    .dataframe thead th {\n",
       "        text-align: right;\n",
       "    }\n",
       "</style>\n",
       "<table border=\"1\" class=\"dataframe\">\n",
       "  <thead>\n",
       "    <tr style=\"text-align: right;\">\n",
       "      <th></th>\n",
       "      <th>date</th>\n",
       "      <th>value</th>\n",
       "    </tr>\n",
       "  </thead>\n",
       "  <tbody>\n",
       "    <tr>\n",
       "      <th>16341</th>\n",
       "      <td>2015/1/5</td>\n",
       "      <td>17408.71</td>\n",
       "    </tr>\n",
       "    <tr>\n",
       "      <th>16342</th>\n",
       "      <td>2015/1/6</td>\n",
       "      <td>16883.19</td>\n",
       "    </tr>\n",
       "    <tr>\n",
       "      <th>16343</th>\n",
       "      <td>2015/1/7</td>\n",
       "      <td>16885.33</td>\n",
       "    </tr>\n",
       "    <tr>\n",
       "      <th>16344</th>\n",
       "      <td>2015/1/8</td>\n",
       "      <td>17167.10</td>\n",
       "    </tr>\n",
       "    <tr>\n",
       "      <th>16345</th>\n",
       "      <td>2015/1/9</td>\n",
       "      <td>17197.73</td>\n",
       "    </tr>\n",
       "  </tbody>\n",
       "</table>\n",
       "</div>"
      ],
      "text/plain": [
       "           date     value\n",
       "16341  2015/1/5  17408.71\n",
       "16342  2015/1/6  16883.19\n",
       "16343  2015/1/7  16885.33\n",
       "16344  2015/1/8  17167.10\n",
       "16345  2015/1/9  17197.73"
      ]
     },
     "execution_count": 194,
     "metadata": {},
     "output_type": "execute_result"
    }
   ],
   "source": [
    "data.head()"
   ]
  },
  {
   "cell_type": "code",
   "execution_count": 195,
   "id": "finnish-leather",
   "metadata": {},
   "outputs": [
    {
     "data": {
      "text/plain": [
       "<AxesSubplot:>"
      ]
     },
     "execution_count": 195,
     "metadata": {},
     "output_type": "execute_result"
    },
    {
     "data": {
      "image/png": "[encoded data removed]",
      "text/plain": [
       "<Figure size 432x288 with 1 Axes>"
      ]
     },
     "metadata": {},
     "output_type": "display_data"
    }
   ],
   "source": [
    "#時系列順に格納されているので日付データを削除\n",
    "data = data.drop(['date'],axis =1)\n",
    "data.plot()"
   ]
  },
  {
   "cell_type": "markdown",
   "id": "automated-honor",
   "metadata": {},
   "source": [
    "上記が約５年間の株価の流れです。"
   ]
  },
  {
   "cell_type": "code",
   "execution_count": 196,
   "id": "possible-rubber",
   "metadata": {},
   "outputs": [],
   "source": [
    "# 時系列は３０日間を元に窓を作る\n",
    "def _load_data(data, n_prev = 30):  \n",
    "   \n",
    "    docX, docY = [], []\n",
    "    for i in range(len(data)-n_prev):\n",
    "        docX.append(data.iloc[i:i+n_prev])\n",
    "        docY.append(data.iloc[i+n_prev])\n",
    "    alsX = np.array(docX)\n",
    "    alsY = np.array(docY)\n",
    " \n",
    "    return alsX, alsY"
   ]
  },
  {
   "cell_type": "code",
   "execution_count": 197,
   "id": "specified-basics",
   "metadata": {},
   "outputs": [],
   "source": [
    "# データを分割する関数を作成（１割をテストデータ）\n",
    "def train_test_split(df, test_size=0.1, n_prev = 30):  \n",
    "    \n",
    "    ntrn = round(len(df) * (1 - test_size))\n",
    "    ntrn = int(ntrn)\n",
    "    X_train, y_train = _load_data(df.iloc[0:ntrn], n_prev)\n",
    "    X_test, y_test = _load_data(df.iloc[ntrn:], n_prev)\n",
    " \n",
    "    return (X_train, y_train), (X_test, y_test)"
   ]
  },
  {
   "cell_type": "code",
   "execution_count": 198,
   "id": "sonic-beginning",
   "metadata": {},
   "outputs": [],
   "source": [
    "#正規化とデータ分割を実施\n",
    "df = data / data.mean()\n",
    "length_of_sequences = 30 #時系列数\n",
    "(X_train, y_train), (X_test, y_test) = train_test_split(df, test_size = 0.1, n_prev = length_of_sequences)"
   ]
  },
  {
   "cell_type": "markdown",
   "id": "floating-batman",
   "metadata": {},
   "source": [
    "## LSTMによる学習"
   ]
  },
  {
   "cell_type": "code",
   "execution_count": 199,
   "id": "configured-strategy",
   "metadata": {},
   "outputs": [
    {
     "name": "stdout",
     "output_type": "stream",
     "text": [
      "Epoch 1/100\n",
      "10/10 [==============================] - 1s 51ms/step - loss: 0.5051 - val_loss: 0.1004\n",
      "Epoch 2/100\n",
      "10/10 [==============================] - 0s 24ms/step - loss: 0.0360 - val_loss: 0.0414\n",
      "Epoch 3/100\n",
      "10/10 [==============================] - 0s 23ms/step - loss: 0.0180 - val_loss: 0.0092\n",
      "Epoch 4/100\n",
      "10/10 [==============================] - 0s 24ms/step - loss: 0.0113 - val_loss: 0.0048\n",
      "Epoch 5/100\n",
      "10/10 [==============================] - 0s 23ms/step - loss: 0.0081 - val_loss: 0.0023\n",
      "Epoch 6/100\n",
      "10/10 [==============================] - 0s 23ms/step - loss: 0.0067 - val_loss: 0.0023\n",
      "Epoch 7/100\n",
      "10/10 [==============================] - 0s 24ms/step - loss: 0.0068 - val_loss: 0.0024\n",
      "Epoch 8/100\n",
      "10/10 [==============================] - 0s 23ms/step - loss: 0.0062 - val_loss: 0.0022\n",
      "Epoch 9/100\n",
      "10/10 [==============================] - 0s 23ms/step - loss: 0.0068 - val_loss: 0.0023\n",
      "Epoch 10/100\n",
      "10/10 [==============================] - 0s 23ms/step - loss: 0.0059 - val_loss: 0.0022\n",
      "Epoch 11/100\n",
      "10/10 [==============================] - 0s 23ms/step - loss: 0.0053 - val_loss: 0.0023\n",
      "Epoch 12/100\n",
      "10/10 [==============================] - 0s 23ms/step - loss: 0.0056 - val_loss: 0.0021\n",
      "Epoch 13/100\n",
      "10/10 [==============================] - 0s 23ms/step - loss: 0.0054 - val_loss: 0.0022\n",
      "Epoch 14/100\n",
      "10/10 [==============================] - 0s 27ms/step - loss: 0.0059 - val_loss: 0.0021\n",
      "Epoch 15/100\n",
      "10/10 [==============================] - 0s 26ms/step - loss: 0.0053 - val_loss: 0.0021\n",
      "Epoch 16/100\n",
      "10/10 [==============================] - 0s 26ms/step - loss: 0.0052 - val_loss: 0.0021\n",
      "Epoch 17/100\n",
      "10/10 [==============================] - 0s 25ms/step - loss: 0.0052 - val_loss: 0.0021\n",
      "Epoch 18/100\n",
      "10/10 [==============================] - 0s 23ms/step - loss: 0.0051 - val_loss: 0.0021\n",
      "Epoch 19/100\n",
      "10/10 [==============================] - 0s 23ms/step - loss: 0.0048 - val_loss: 0.0021\n",
      "Epoch 20/100\n",
      "10/10 [==============================] - 0s 23ms/step - loss: 0.0046 - val_loss: 0.0020\n",
      "Epoch 21/100\n",
      "10/10 [==============================] - 0s 23ms/step - loss: 0.0050 - val_loss: 0.0020\n",
      "Epoch 22/100\n",
      "10/10 [==============================] - 0s 23ms/step - loss: 0.0044 - val_loss: 0.0023\n",
      "Epoch 23/100\n",
      "10/10 [==============================] - 0s 23ms/step - loss: 0.0040 - val_loss: 0.0020\n",
      "Epoch 24/100\n",
      "10/10 [==============================] - 0s 23ms/step - loss: 0.0044 - val_loss: 0.0020\n",
      "Epoch 25/100\n",
      "10/10 [==============================] - 0s 23ms/step - loss: 0.0043 - val_loss: 0.0019\n",
      "Epoch 26/100\n",
      "10/10 [==============================] - 0s 23ms/step - loss: 0.0044 - val_loss: 0.0020\n",
      "Epoch 27/100\n",
      "10/10 [==============================] - 0s 23ms/step - loss: 0.0040 - val_loss: 0.0020\n",
      "Epoch 28/100\n",
      "10/10 [==============================] - 0s 23ms/step - loss: 0.0043 - val_loss: 0.0020\n",
      "Epoch 29/100\n",
      "10/10 [==============================] - 0s 22ms/step - loss: 0.0036 - val_loss: 0.0019\n",
      "Epoch 30/100\n",
      "10/10 [==============================] - 0s 23ms/step - loss: 0.0038 - val_loss: 0.0019\n",
      "Epoch 31/100\n",
      "10/10 [==============================] - 0s 23ms/step - loss: 0.0040 - val_loss: 0.0019\n",
      "Epoch 32/100\n",
      "10/10 [==============================] - 0s 23ms/step - loss: 0.0037 - val_loss: 0.0019\n",
      "Epoch 33/100\n",
      "10/10 [==============================] - 0s 23ms/step - loss: 0.0038 - val_loss: 0.0019\n",
      "Epoch 34/100\n",
      "10/10 [==============================] - 0s 24ms/step - loss: 0.0038 - val_loss: 0.0021\n",
      "Epoch 35/100\n",
      "10/10 [==============================] - 0s 23ms/step - loss: 0.0040 - val_loss: 0.0022\n",
      "Epoch 36/100\n",
      "10/10 [==============================] - 0s 23ms/step - loss: 0.0035 - val_loss: 0.0019\n",
      "Epoch 37/100\n",
      "10/10 [==============================] - 0s 23ms/step - loss: 0.0037 - val_loss: 0.0019\n",
      "Epoch 38/100\n",
      "10/10 [==============================] - 0s 23ms/step - loss: 0.0038 - val_loss: 0.0019\n",
      "Epoch 39/100\n",
      "10/10 [==============================] - 0s 23ms/step - loss: 0.0033 - val_loss: 0.0019\n",
      "Epoch 40/100\n",
      "10/10 [==============================] - 0s 23ms/step - loss: 0.0034 - val_loss: 0.0020\n",
      "Epoch 41/100\n",
      "10/10 [==============================] - 0s 23ms/step - loss: 0.0035 - val_loss: 0.0019\n",
      "Epoch 42/100\n",
      "10/10 [==============================] - 0s 23ms/step - loss: 0.0036 - val_loss: 0.0021\n",
      "Epoch 43/100\n",
      "10/10 [==============================] - 0s 23ms/step - loss: 0.0034 - val_loss: 0.0019\n",
      "Epoch 44/100\n",
      "10/10 [==============================] - 0s 23ms/step - loss: 0.0038 - val_loss: 0.0022\n",
      "Epoch 45/100\n",
      "10/10 [==============================] - 0s 23ms/step - loss: 0.0039 - val_loss: 0.0021\n",
      "Epoch 46/100\n",
      "10/10 [==============================] - 0s 23ms/step - loss: 0.0035 - val_loss: 0.0019\n",
      "Epoch 47/100\n",
      "10/10 [==============================] - 0s 23ms/step - loss: 0.0037 - val_loss: 0.0019\n",
      "Epoch 48/100\n",
      "10/10 [==============================] - 0s 23ms/step - loss: 0.0035 - val_loss: 0.0019\n",
      "Epoch 49/100\n",
      "10/10 [==============================] - 0s 23ms/step - loss: 0.0035 - val_loss: 0.0022\n",
      "Epoch 00049: early stopping\n"
     ]
    }
   ],
   "source": [
    "length_of_sequences = X_train.shape[1]\n",
    "hidden_neurons = 128 #中間層の数\n",
    "in_out_neurons = 1 #出力の数\n",
    " \n",
    "#LSTMモデル作成\n",
    "model = Sequential()\n",
    "model.add(LSTM(hidden_neurons, batch_input_shape=(None, length_of_sequences, in_out_neurons), return_sequences=False))\n",
    "model.add(Dropout(0.25))#Dropoutは2.5割\n",
    "model.add(Dense(1))  \n",
    "model.add(Activation(\"linear\")) #恒等関数で出力\n",
    " \n",
    "model.compile(loss=\"mean_squared_error\", optimizer=\"adam\") #評価はMSE,最適化はAdam\n",
    "early_stopping = EarlyStopping(monitor='loss', patience=10, verbose=1) #10エポックごとにアーリーストッピングを検討\n",
    "history = model.fit(X_train, y_train, batch_size=128, epochs=100, validation_split=0.1,callbacks=[early_stopping])"
   ]
  },
  {
   "cell_type": "markdown",
   "id": "peaceful-forum",
   "metadata": {},
   "source": [
    "49回で学習が止まりました。<br>\n",
    "そこからはモデルの改善ができないようです。<br>"
   ]
  },
  {
   "cell_type": "code",
   "execution_count": 200,
   "id": "cordless-balance",
   "metadata": {},
   "outputs": [
    {
     "data": {
      "text/plain": [
       "<AxesSubplot:>"
      ]
     },
     "execution_count": 200,
     "metadata": {},
     "output_type": "execute_result"
    },
    {
     "data": {
      "image/png": "[encoded data removed]",
      "text/plain": [
       "<Figure size 1080x360 with 1 Axes>"
      ]
     },
     "metadata": {},
     "output_type": "display_data"
    }
   ],
   "source": [
    "# 予測値算出\n",
    "predicted = model.predict(X_test) \n",
    "# 実績と比較\n",
    "dataf =  pd.DataFrame(predicted)\n",
    "dataf.columns = [\"predict\"]\n",
    "dataf[\"Stock price\"] = y_test\n",
    "dataf.plot(figsize=(15, 5))"
   ]
  },
  {
   "cell_type": "markdown",
   "id": "amber-chocolate",
   "metadata": {},
   "source": [
    "大枠は予測できていますが、山の位置がずれています。<br>\n",
    "この結果をGRUのときと比較してみます。"
   ]
  },
  {
   "cell_type": "markdown",
   "id": "organic-superintendent",
   "metadata": {},
   "source": [
    "## GRUによる学習"
   ]
  },
  {
   "cell_type": "markdown",
   "id": "finite-native",
   "metadata": {},
   "source": [
    "LSTMとの違いを見るために、同条件での学習を行う。"
   ]
  },
  {
   "cell_type": "code",
   "execution_count": 202,
   "id": "tamil-right",
   "metadata": {},
   "outputs": [
    {
     "name": "stdout",
     "output_type": "stream",
     "text": [
      "Epoch 1/100\n",
      "10/10 [==============================] - 0s 48ms/step - loss: 0.4779 - val_loss: 0.0025\n",
      "Epoch 2/100\n",
      "10/10 [==============================] - 0s 20ms/step - loss: 0.0546 - val_loss: 0.0037\n",
      "Epoch 3/100\n",
      "10/10 [==============================] - 0s 20ms/step - loss: 0.0141 - val_loss: 0.0185\n",
      "Epoch 4/100\n",
      "10/10 [==============================] - 0s 21ms/step - loss: 0.0128 - val_loss: 0.0013\n",
      "Epoch 5/100\n",
      "10/10 [==============================] - 0s 20ms/step - loss: 0.0083 - val_loss: 0.0017\n",
      "Epoch 6/100\n",
      "10/10 [==============================] - 0s 20ms/step - loss: 0.0072 - val_loss: 0.0025\n",
      "Epoch 7/100\n",
      "10/10 [==============================] - 0s 20ms/step - loss: 0.0069 - val_loss: 0.0015\n",
      "Epoch 8/100\n",
      "10/10 [==============================] - 0s 20ms/step - loss: 0.0065 - val_loss: 0.0012\n",
      "Epoch 9/100\n",
      "10/10 [==============================] - 0s 20ms/step - loss: 0.0060 - val_loss: 0.0016\n",
      "Epoch 10/100\n",
      "10/10 [==============================] - 0s 20ms/step - loss: 0.0067 - val_loss: 0.0012\n",
      "Epoch 11/100\n",
      "10/10 [==============================] - 0s 20ms/step - loss: 0.0062 - val_loss: 0.0014\n",
      "Epoch 12/100\n",
      "10/10 [==============================] - 0s 20ms/step - loss: 0.0063 - val_loss: 0.0013\n",
      "Epoch 13/100\n",
      "10/10 [==============================] - 0s 20ms/step - loss: 0.0060 - val_loss: 0.0011\n",
      "Epoch 14/100\n",
      "10/10 [==============================] - 0s 20ms/step - loss: 0.0060 - val_loss: 0.0014\n",
      "Epoch 15/100\n",
      "10/10 [==============================] - 0s 20ms/step - loss: 0.0062 - val_loss: 0.0012\n",
      "Epoch 16/100\n",
      "10/10 [==============================] - 0s 20ms/step - loss: 0.0053 - val_loss: 0.0011\n",
      "Epoch 17/100\n",
      "10/10 [==============================] - 0s 20ms/step - loss: 0.0054 - val_loss: 0.0012\n",
      "Epoch 18/100\n",
      "10/10 [==============================] - 0s 20ms/step - loss: 0.0055 - val_loss: 0.0013\n",
      "Epoch 19/100\n",
      "10/10 [==============================] - 0s 20ms/step - loss: 0.0052 - val_loss: 0.0011\n",
      "Epoch 20/100\n",
      "10/10 [==============================] - 0s 20ms/step - loss: 0.0050 - val_loss: 0.0012\n",
      "Epoch 21/100\n",
      "10/10 [==============================] - 0s 20ms/step - loss: 0.0051 - val_loss: 9.3539e-04\n",
      "Epoch 22/100\n",
      "10/10 [==============================] - 0s 20ms/step - loss: 0.0050 - val_loss: 0.0015\n",
      "Epoch 23/100\n",
      "10/10 [==============================] - 0s 20ms/step - loss: 0.0051 - val_loss: 9.4446e-04\n",
      "Epoch 24/100\n",
      "10/10 [==============================] - 0s 20ms/step - loss: 0.0048 - val_loss: 0.0012\n",
      "Epoch 25/100\n",
      "10/10 [==============================] - 0s 20ms/step - loss: 0.0047 - val_loss: 9.1030e-04\n",
      "Epoch 26/100\n",
      "10/10 [==============================] - 0s 20ms/step - loss: 0.0046 - val_loss: 0.0010\n",
      "Epoch 27/100\n",
      "10/10 [==============================] - 0s 20ms/step - loss: 0.0044 - val_loss: 9.3254e-04\n",
      "Epoch 28/100\n",
      "10/10 [==============================] - 0s 19ms/step - loss: 0.0043 - val_loss: 0.0010\n",
      "Epoch 29/100\n",
      "10/10 [==============================] - 0s 20ms/step - loss: 0.0041 - val_loss: 8.5955e-04\n",
      "Epoch 30/100\n",
      "10/10 [==============================] - 0s 20ms/step - loss: 0.0043 - val_loss: 9.7218e-04\n",
      "Epoch 31/100\n",
      "10/10 [==============================] - 0s 20ms/step - loss: 0.0039 - val_loss: 8.7783e-04\n",
      "Epoch 32/100\n",
      "10/10 [==============================] - 0s 20ms/step - loss: 0.0041 - val_loss: 8.4026e-04\n",
      "Epoch 33/100\n",
      "10/10 [==============================] - 0s 20ms/step - loss: 0.0038 - val_loss: 8.2397e-04\n",
      "Epoch 34/100\n",
      "10/10 [==============================] - 0s 20ms/step - loss: 0.0042 - val_loss: 8.1758e-04\n",
      "Epoch 35/100\n",
      "10/10 [==============================] - 0s 20ms/step - loss: 0.0039 - val_loss: 7.7696e-04\n",
      "Epoch 36/100\n",
      "10/10 [==============================] - 0s 20ms/step - loss: 0.0037 - val_loss: 0.0012\n",
      "Epoch 37/100\n",
      "10/10 [==============================] - 0s 20ms/step - loss: 0.0038 - val_loss: 7.4984e-04\n",
      "Epoch 38/100\n",
      "10/10 [==============================] - 0s 20ms/step - loss: 0.0038 - val_loss: 7.9578e-04\n",
      "Epoch 39/100\n",
      "10/10 [==============================] - 0s 20ms/step - loss: 0.0036 - val_loss: 0.0010\n",
      "Epoch 40/100\n",
      "10/10 [==============================] - 0s 21ms/step - loss: 0.0035 - val_loss: 9.6247e-04\n",
      "Epoch 41/100\n",
      "10/10 [==============================] - 0s 20ms/step - loss: 0.0035 - val_loss: 7.1548e-04\n",
      "Epoch 42/100\n",
      "10/10 [==============================] - 0s 20ms/step - loss: 0.0033 - val_loss: 8.4278e-04\n",
      "Epoch 43/100\n",
      "10/10 [==============================] - 0s 20ms/step - loss: 0.0031 - val_loss: 7.1122e-04\n",
      "Epoch 44/100\n",
      "10/10 [==============================] - 0s 20ms/step - loss: 0.0032 - val_loss: 8.7010e-04\n",
      "Epoch 45/100\n",
      "10/10 [==============================] - 0s 20ms/step - loss: 0.0033 - val_loss: 7.4328e-04\n",
      "Epoch 46/100\n",
      "10/10 [==============================] - 0s 20ms/step - loss: 0.0032 - val_loss: 7.2520e-04\n",
      "Epoch 47/100\n",
      "10/10 [==============================] - 0s 19ms/step - loss: 0.0032 - val_loss: 9.0043e-04\n",
      "Epoch 48/100\n",
      "10/10 [==============================] - 0s 20ms/step - loss: 0.0032 - val_loss: 7.7076e-04\n",
      "Epoch 49/100\n",
      "10/10 [==============================] - 0s 20ms/step - loss: 0.0032 - val_loss: 6.6954e-04\n",
      "Epoch 50/100\n",
      "10/10 [==============================] - 0s 20ms/step - loss: 0.0034 - val_loss: 6.5145e-04\n",
      "Epoch 51/100\n",
      "10/10 [==============================] - 0s 20ms/step - loss: 0.0031 - val_loss: 7.8418e-04\n",
      "Epoch 52/100\n",
      "10/10 [==============================] - 0s 19ms/step - loss: 0.0030 - val_loss: 7.4915e-04\n",
      "Epoch 53/100\n",
      "10/10 [==============================] - 0s 19ms/step - loss: 0.0029 - val_loss: 6.4605e-04\n",
      "Epoch 54/100\n",
      "10/10 [==============================] - 0s 20ms/step - loss: 0.0032 - val_loss: 6.3758e-04\n",
      "Epoch 55/100\n",
      "10/10 [==============================] - 0s 19ms/step - loss: 0.0032 - val_loss: 6.3712e-04\n",
      "Epoch 56/100\n",
      "10/10 [==============================] - 0s 19ms/step - loss: 0.0030 - val_loss: 6.5303e-04\n",
      "Epoch 57/100\n",
      "10/10 [==============================] - 0s 19ms/step - loss: 0.0028 - val_loss: 6.7940e-04\n",
      "Epoch 58/100\n",
      "10/10 [==============================] - 0s 20ms/step - loss: 0.0031 - val_loss: 6.2861e-04\n",
      "Epoch 59/100\n",
      "10/10 [==============================] - 0s 19ms/step - loss: 0.0030 - val_loss: 6.7050e-04\n",
      "Epoch 60/100\n",
      "10/10 [==============================] - 0s 19ms/step - loss: 0.0028 - val_loss: 6.4867e-04\n",
      "Epoch 61/100\n",
      "10/10 [==============================] - 0s 19ms/step - loss: 0.0029 - val_loss: 6.2376e-04\n",
      "Epoch 62/100\n",
      "10/10 [==============================] - 0s 20ms/step - loss: 0.0031 - val_loss: 7.3921e-04\n",
      "Epoch 63/100\n",
      "10/10 [==============================] - 0s 20ms/step - loss: 0.0028 - val_loss: 6.5238e-04\n",
      "Epoch 64/100\n",
      "10/10 [==============================] - 0s 19ms/step - loss: 0.0029 - val_loss: 6.2702e-04\n",
      "Epoch 65/100\n",
      "10/10 [==============================] - 0s 19ms/step - loss: 0.0026 - val_loss: 6.3238e-04\n",
      "Epoch 66/100\n",
      "10/10 [==============================] - 0s 20ms/step - loss: 0.0028 - val_loss: 6.4416e-04\n",
      "Epoch 67/100\n",
      "10/10 [==============================] - 0s 20ms/step - loss: 0.0029 - val_loss: 6.2367e-04\n",
      "Epoch 68/100\n",
      "10/10 [==============================] - 0s 19ms/step - loss: 0.0028 - val_loss: 6.3051e-04\n",
      "Epoch 69/100\n",
      "10/10 [==============================] - 0s 20ms/step - loss: 0.0028 - val_loss: 7.2209e-04\n",
      "Epoch 70/100\n",
      "10/10 [==============================] - 0s 19ms/step - loss: 0.0029 - val_loss: 7.0035e-04\n",
      "Epoch 71/100\n",
      "10/10 [==============================] - 0s 20ms/step - loss: 0.0028 - val_loss: 5.9721e-04\n",
      "Epoch 72/100\n",
      "10/10 [==============================] - 0s 21ms/step - loss: 0.0027 - val_loss: 6.2247e-04\n",
      "Epoch 73/100\n",
      "10/10 [==============================] - 0s 20ms/step - loss: 0.0027 - val_loss: 5.9171e-04\n",
      "Epoch 74/100\n",
      "10/10 [==============================] - 0s 20ms/step - loss: 0.0026 - val_loss: 7.9770e-04\n",
      "Epoch 75/100\n",
      "10/10 [==============================] - 0s 19ms/step - loss: 0.0028 - val_loss: 7.7573e-04\n",
      "Epoch 76/100\n",
      "10/10 [==============================] - 0s 20ms/step - loss: 0.0027 - val_loss: 5.9071e-04\n",
      "Epoch 77/100\n",
      "10/10 [==============================] - 0s 20ms/step - loss: 0.0030 - val_loss: 5.8351e-04\n",
      "Epoch 78/100\n",
      "10/10 [==============================] - 0s 20ms/step - loss: 0.0025 - val_loss: 5.8587e-04\n",
      "Epoch 79/100\n",
      "10/10 [==============================] - 0s 20ms/step - loss: 0.0026 - val_loss: 5.7923e-04\n",
      "Epoch 80/100\n"
     ]
    },
    {
     "name": "stdout",
     "output_type": "stream",
     "text": [
      "10/10 [==============================] - 0s 19ms/step - loss: 0.0029 - val_loss: 5.8062e-04\n",
      "Epoch 81/100\n",
      "10/10 [==============================] - 0s 20ms/step - loss: 0.0024 - val_loss: 5.9431e-04\n",
      "Epoch 82/100\n",
      "10/10 [==============================] - 0s 19ms/step - loss: 0.0026 - val_loss: 5.7731e-04\n",
      "Epoch 83/100\n",
      "10/10 [==============================] - 0s 19ms/step - loss: 0.0027 - val_loss: 6.4223e-04\n",
      "Epoch 84/100\n",
      "10/10 [==============================] - 0s 19ms/step - loss: 0.0028 - val_loss: 6.4974e-04\n",
      "Epoch 85/100\n",
      "10/10 [==============================] - 0s 20ms/step - loss: 0.0027 - val_loss: 6.1835e-04\n",
      "Epoch 86/100\n",
      "10/10 [==============================] - 0s 20ms/step - loss: 0.0026 - val_loss: 8.8641e-04\n",
      "Epoch 87/100\n",
      "10/10 [==============================] - 0s 19ms/step - loss: 0.0026 - val_loss: 6.0206e-04\n",
      "Epoch 88/100\n",
      "10/10 [==============================] - 0s 20ms/step - loss: 0.0026 - val_loss: 6.8621e-04\n",
      "Epoch 89/100\n",
      "10/10 [==============================] - 0s 20ms/step - loss: 0.0029 - val_loss: 6.2079e-04\n",
      "Epoch 90/100\n",
      "10/10 [==============================] - 0s 20ms/step - loss: 0.0027 - val_loss: 5.6288e-04\n",
      "Epoch 91/100\n",
      "10/10 [==============================] - 0s 20ms/step - loss: 0.0024 - val_loss: 5.6417e-04\n",
      "Epoch 92/100\n",
      "10/10 [==============================] - 0s 19ms/step - loss: 0.0025 - val_loss: 7.1374e-04\n",
      "Epoch 93/100\n",
      "10/10 [==============================] - 0s 19ms/step - loss: 0.0026 - val_loss: 6.4871e-04\n",
      "Epoch 94/100\n",
      "10/10 [==============================] - 0s 19ms/step - loss: 0.0028 - val_loss: 5.9639e-04\n",
      "Epoch 95/100\n",
      "10/10 [==============================] - 0s 20ms/step - loss: 0.0027 - val_loss: 7.1354e-04\n",
      "Epoch 96/100\n",
      "10/10 [==============================] - 0s 20ms/step - loss: 0.0028 - val_loss: 5.5769e-04\n",
      "Epoch 97/100\n",
      "10/10 [==============================] - 0s 19ms/step - loss: 0.0028 - val_loss: 5.5539e-04\n",
      "Epoch 98/100\n",
      "10/10 [==============================] - 0s 19ms/step - loss: 0.0027 - val_loss: 6.1661e-04\n",
      "Epoch 99/100\n",
      "10/10 [==============================] - 0s 20ms/step - loss: 0.0025 - val_loss: 5.5558e-04\n",
      "Epoch 100/100\n",
      "10/10 [==============================] - 0s 20ms/step - loss: 0.0025 - val_loss: 5.6100e-04\n"
     ]
    }
   ],
   "source": [
    "model = Sequential()\n",
    "model.add(GRU(hidden_neurons, batch_input_shape=(None, length_of_sequences, in_out_neurons), return_sequences=False))\n",
    "model.add(Dropout(0.25))#念のためDropout\n",
    "model.add(Dense(1))  \n",
    "model.add(Activation(\"linear\")) \n",
    " \n",
    "model.compile(loss=\"mean_squared_error\", optimizer=\"adam\")\n",
    "early_stopping = EarlyStopping(monitor='loss', patience=10, verbose=1)\n",
    "history = model.fit(X_train, y_train, batch_size=128, epochs=100, validation_split=0.1,callbacks=[early_stopping])"
   ]
  },
  {
   "cell_type": "markdown",
   "id": "advisory-marina",
   "metadata": {},
   "source": [
    "決めていたエポック数の１００回は学習しきりました。<br>\n",
    "さらに増やせば改善ができるかもしれません。<br>\n",
    "このまま結果を可視化してみます。"
   ]
  },
  {
   "cell_type": "code",
   "execution_count": 203,
   "id": "burning-nylon",
   "metadata": {},
   "outputs": [
    {
     "data": {
      "text/plain": [
       "<AxesSubplot:>"
      ]
     },
     "execution_count": 203,
     "metadata": {},
     "output_type": "execute_result"
    },
    {
     "data": {
      "image/png": "[encoded data removed]",
      "text/plain": [
       "<Figure size 1080x360 with 1 Axes>"
      ]
     },
     "metadata": {},
     "output_type": "display_data"
    }
   ],
   "source": [
    "predicted = model.predict(X_test) \n",
    "# 実績と比較\n",
    "dataf =  pd.DataFrame(predicted)\n",
    "dataf.columns = [\"predict\"]\n",
    "dataf[\"Stock price\"] = y_test\n",
    "dataf.plot(figsize=(15, 5))"
   ]
  },
  {
   "cell_type": "markdown",
   "id": "cheap-freedom",
   "metadata": {},
   "source": [
    "LSTMよりも株価の変動の特徴を捉えているように見えます。<br>\n",
    "このケースではGRUのほうが優秀なモデルといえるでしょう。<br>\n",
    "※ちなみにデータ量を増やすと、どちらも予測精度はほぼ違いがありませんでした。<br>"
   ]
  },
  {
   "cell_type": "code",
   "execution_count": null,
   "id": "billion-bubble",
   "metadata": {},
   "outputs": [],
   "source": []
  }
 ],
 "metadata": {
  "kernelspec": {
   "display_name": "Python 3",
   "language": "python",
   "name": "python3"
  },
  "language_info": {
   "codemirror_mode": {
    "name": "ipython",
    "version": 3
   },
   "file_extension": ".py",
   "mimetype": "text/x-python",
   "name": "python",
   "nbconvert_exporter": "python",
   "pygments_lexer": "ipython3",
   "version": "3.8.8"
  }
 },
 "nbformat": 4,
 "nbformat_minor": 5
}
